{
  "nbformat": 4,
  "nbformat_minor": 0,
  "metadata": {
    "colab": {
      "name": "Data wranglingpractice",
      "provenance": [],
      "collapsed_sections": [],
      "authorship_tag": "ABX9TyOY1/Wc1eaBhtOF6ZhmqHf7",
      "include_colab_link": true
    },
    "kernelspec": {
      "name": "python3",
      "display_name": "Python 3"
    },
    "language_info": {
      "name": "python"
    }
  },
  "cells": [
    {
      "cell_type": "markdown",
      "metadata": {
        "id": "view-in-github",
        "colab_type": "text"
      },
      "source": [
        "<a href=\"https://colab.research.google.com/github/ighoere/Hamoyestagee1/blob/main/Data_wranglingpractice.ipynb\" target=\"_parent\"><img src=\"https://colab.research.google.com/assets/colab-badge.svg\" alt=\"Open In Colab\"/></a>"
      ]
    },
    {
      "cell_type": "markdown",
      "source": [
        "# Concept 1.4: Data Types and Data Wrangling"
      ],
      "metadata": {
        "id": "W6BaBEdStPMe"
      }
    },
    {
      "cell_type": "markdown",
      "source": [
        "- Working with different types of data: text files, CSV, JSON objects, HTML and\n",
        "databases."
      ],
      "metadata": {
        "id": "u4dLxVNUtjl0"
      }
    },
    {
      "cell_type": "code",
      "execution_count": null,
      "metadata": {
        "id": "6GOdmKcgs4in"
      },
      "outputs": [],
      "source": [
        "csv_df = pd.read_csv('sample_file.csv') \n",
        "csv_df.to_csv('sample_file.csv', index=False)\n",
        "\n",
        "#sometimes dependent on the xlrd library which can be installed by running pip\n",
        " install xlrd in the terminal \n",
        "\n",
        "excel_df = pd.read_excel('sample_file.xlsx') \n",
        "excel_df.to_excel('sample_file.xlsx')\n",
        "\n",
        "#read table from a webpage and save as a dataframe \n",
        "html_df = pd.read_html('http://www.webpage.com/sampledata.html') \n",
        "html_df.to_html('sample_file.html')\n",
        "\n"
      ]
    },
    {
      "cell_type": "markdown",
      "source": [
        "Pandas can connect to databases, get data with queries and save in a dataframe."
      ],
      "metadata": {
        "id": "L1_tAYwuufah"
      }
    },
    {
      "cell_type": "code",
      "source": [
        "url='https://github.com/WalePhenomenon/climate_change/blob/master/fuel_ferc1.csv?ra \n",
        "w=true' \n",
        "fuel_data = pd.read_csv(url, error_bad_lines=False) \n",
        "fuel_data.describe(include='all')\n",
        "#check for missing values\n",
        "fuel_data.isnull().sum()\n",
        "\n",
        "#use groupby to count the sum of each unique value in the fuel unit column \n",
        "fuel_data.groupby('fuel_unit')['fuel_unit'].count() \n",
        "fuel_data[['fuel_unit']] = fuel_data[['fuel_unit']].fillna(value='mcf')\n",
        "\n",
        "\n",
        "#check if missing values have been filled\n",
        "fuel_data.isnull().sum()\n",
        "\n",
        "\n",
        "fuel_data.groupby('report_year')['report_year'].count()\n",
        "#group by the fuel type code year and print the first entries in all the groups\n",
        "formed \n",
        "fuel_data.groupby('fuel_type_code_pudl').first()\n",
        "\n",
        "\n",
        "\n",
        "\n",
        "\n",
        "\n",
        "\n"
      ],
      "metadata": {
        "id": "__p8uRdwuoEB"
      },
      "execution_count": null,
      "outputs": []
    },
    {
      "cell_type": "markdown",
      "source": [
        "Merging in Pandas can be likened to join operations in relational databases like SQL."
      ],
      "metadata": {
        "id": "S64x21Cxv3vS"
      }
    },
    {
      "cell_type": "code",
      "source": [
        "fuel_df1 = fuel_data.iloc[0:19000].reset_index(drop=True) \n",
        "fuel_df2 = fuel_data.iloc[19000:].reset_index(drop=True)\n",
        "\n",
        "\n",
        "#check that the length of both dataframes sum to the expected length\n",
        "assert len(fuel_data) == (len(fuel_df1) + len(fuel_df2)) \n",
        "\n",
        "#an inner merge will lose rows that do not match in both dataframes \n",
        "pd.merge(fuel_df1, fuel_df2, how=\"inner\")\n",
        "\n",
        "#outer merge returns all rows in both dataframes\n",
        "pd.merge(fuel_df1, fuel_df2, how=\"outer\")\n",
        "\n",
        "\n",
        "#removes rows from the right dataframe that do not have \n",
        "a match with the left\n",
        "#and keeps all rows from the left\n",
        "pd.merge(fuel_df1, fuel_df2, how=\"left\")\n",
        "\n"
      ],
      "metadata": {
        "id": "TYAERVMWv9z0"
      },
      "execution_count": null,
      "outputs": []
    },
    {
      "cell_type": "markdown",
      "source": [
        "Concatenation is performed with the ​concat() function"
      ],
      "metadata": {
        "id": "yGEsFPbjw5S6"
      }
    },
    {
      "cell_type": "code",
      "source": [
        "pd.concat([fuel_data, data_to_concat]).reset_index(drop=True)"
      ],
      "metadata": {
        "id": "JNF9_tUjw_Br"
      },
      "execution_count": null,
      "outputs": []
    },
    {
      "cell_type": "markdown",
      "source": [
        "Duplicates are a common occurrence in datasets which alter the results of data\n",
        "analysis."
      ],
      "metadata": {
        "id": "N1fysXcRxDtP"
      }
    },
    {
      "cell_type": "code",
      "source": [
        "#check for duplicate rows \n",
        "fuel_data.duplicated().any()"
      ],
      "metadata": {
        "id": "e0XXyHESxHEm"
      },
      "execution_count": null,
      "outputs": []
    }
  ]
}